{
 "cells": [
  {
   "cell_type": "markdown",
   "metadata": {},
   "source": [
    "# Procesamiento del texto, extraemos todo el texto del pdf y lo guardamos en un archivo de texto."
   ]
  },
  {
   "cell_type": "code",
   "execution_count": null,
   "metadata": {},
   "outputs": [
    {
     "name": "stdout",
     "output_type": "stream",
     "text": [
      "✅ Extracción completada. El texto se guardó en '../data/cooked\\texto_extraido.txt'.\n"
     ]
    }
   ],
   "source": [
    "import fitz  \n",
    "import os\n",
    "\n",
    "def extract_text_from_pdf(pdf_path):\n",
    "    doc = fitz.open(pdf_path)\n",
    "    text = \"\"\n",
    "    \n",
    "    for page in doc:\n",
    "        text += page.get_text(\"text\") + \"\\n\"  # Extrae texto de cada página\n",
    "    \n",
    "    return text.strip()\n",
    "\n",
    "# Ruta de tu PDF\n",
    "pdf_path = \"../data/raw/leyes_ajedrez.pdf\"  \n",
    "\n",
    "# Extraer texto\n",
    "texto_extraido = extract_text_from_pdf(pdf_path)\n",
    "\n",
    "# Crear carpeta si no existe    \n",
    "output_dir = \"../data/cooked\"\n",
    "os.makedirs(output_dir, exist_ok=True)\n",
    "\n",
    "# Guardar el texto en un archivo dentro de 'data/cooked'\n",
    "output_path = os.path.join(output_dir, \"texto_extraido.txt\")\n",
    "with open(output_path, \"w\", encoding=\"utf-8\") as f:\n",
    "    f.write(texto_extraido)\n",
    "\n",
    "print(f\"✅ Extracción completada. El texto se guardó en '{output_path}'.\")"
   ]
  },
  {
   "cell_type": "markdown",
   "metadata": {},
   "source": [
    "# La base de datos elegida, ha sido Faiss"
   ]
  },
  {
   "cell_type": "code",
   "execution_count": null,
   "metadata": {},
   "outputs": [],
   "source": [
    "from sentence_transformers import SentenceTransformer\n",
    "import numpy as np\n",
    "\n",
    "# Cargar el modelo preentrenado\n",
    "model = SentenceTransformer('all-MiniLM-L6-v2')  # Puedes cambiar el modelo si lo deseas\n",
    "\n",
    "# Leer el archivo de texto\n",
    "with open('../data/cooked/texto_extraido.txt', 'r') as f:\n",
    "    lines = f.readlines()\n",
    "\n",
    "# Generar embeddings para cada línea del archivo\n",
    "embeddings = model.encode(lines, convert_to_numpy=True)\n",
    "\n",
    "# Ver el primer embedding para verificar\n",
    "print(\"Embedding de la primera línea:\", embeddings[0])"
   ]
  },
  {
   "cell_type": "code",
   "execution_count": 4,
   "metadata": {},
   "outputs": [
    {
     "name": "stdout",
     "output_type": "stream",
     "text": [
      "Número de vectores en el índice: 1827\n"
     ]
    }
   ],
   "source": [
    "import faiss\n",
    "\n",
    "# Dimensión de los embeddings (depende del modelo que uses, por ejemplo, 384 para 'all-MiniLM-L6-v2')\n",
    "dim = embeddings.shape[1]\n",
    "\n",
    "# Crear el índice FAISS (usamos IndexFlatL2 para distancia euclidiana)\n",
    "index = faiss.IndexFlatL2(dim)\n",
    "\n",
    "# Agregar los embeddings al índice\n",
    "index.add(embeddings)\n",
    "\n",
    "# Verifica cuántos vectores se han añadido\n",
    "print(\"Número de vectores en el índice:\", index.ntotal)"
   ]
  },
  {
   "cell_type": "code",
   "execution_count": 8,
   "metadata": {},
   "outputs": [],
   "source": [
    "consulta = [\"cuando se gana una partida\"]\n",
    "consulta_embedding = model.encode(consulta, convert_to_numpy=True)"
   ]
  },
  {
   "cell_type": "code",
   "execution_count": 9,
   "metadata": {},
   "outputs": [
    {
     "name": "stdout",
     "output_type": "stream",
     "text": [
      "Índices de los vectores más cercanos: [[483 760 937 655 370]]\n",
      "Distancias de los vectores más cercanos: [[0.5913608  0.5915155  0.595267   0.61422104 0.6148168 ]]\n"
     ]
    }
   ],
   "source": [
    "# Buscar los 5 vectores más cercanos\n",
    "k = 5\n",
    "distances, indices = index.search(consulta_embedding, k)\n",
    "\n",
    "print(\"Índices de los vectores más cercanos:\", indices)\n",
    "print(\"Distancias de los vectores más cercanos:\", distances)"
   ]
  },
  {
   "cell_type": "code",
   "execution_count": 10,
   "metadata": {},
   "outputs": [],
   "source": [
    "# Guardar el índice\n",
    "faiss.write_index(index, \"mi_indice.index\")\n",
    "\n",
    "# Cargar el índice desde el archivo\n",
    "index_cargado = faiss.read_index(\"mi_indice.index\")"
   ]
  },
  {
   "cell_type": "code",
   "execution_count": 11,
   "metadata": {},
   "outputs": [
    {
     "name": "stdout",
     "output_type": "stream",
     "text": [
      "Se han agregado 1827 embeddings al índice.\n"
     ]
    }
   ],
   "source": [
    "import faiss\n",
    "\n",
    "#Comprobamos la dimensión de los embeddings\n",
    "dim = embeddings.shape[1]\n",
    "\n",
    "#Creamos un índice\n",
    "index = faiss.IndexFlatL2(dim)  \n",
    "\n",
    "# Agregar los embeddings al índice\n",
    "index.add(embeddings)  # embeddings es un array numpy de tamaño (número de textos, dimensiones del embedding)\n",
    "print(f\"Se han agregado {embeddings.shape[0]} embeddings al índice.\")"
   ]
  }
 ],
 "metadata": {
  "kernelspec": {
   "display_name": "prueba_rag_tailor",
   "language": "python",
   "name": "python3"
  },
  "language_info": {
   "codemirror_mode": {
    "name": "ipython",
    "version": 3
   },
   "file_extension": ".py",
   "mimetype": "text/x-python",
   "name": "python",
   "nbconvert_exporter": "python",
   "pygments_lexer": "ipython3",
   "version": "3.13.2"
  }
 },
 "nbformat": 4,
 "nbformat_minor": 2
}
